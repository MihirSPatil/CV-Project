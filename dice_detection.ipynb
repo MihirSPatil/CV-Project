{
 "cells": [
  {
   "cell_type": "code",
   "execution_count": 1,
   "metadata": {},
   "outputs": [
    {
     "ename": "ImportError",
     "evalue": "/opt/ros/kinetic/lib/python2.7/dist-packages/cv2.so: undefined symbol: PyCObject_Type",
     "output_type": "error",
     "traceback": [
      "\u001b[0;31m---------------------------------------------------------------------------\u001b[0m",
      "\u001b[0;31mImportError\u001b[0m                               Traceback (most recent call last)",
      "\u001b[0;32m<ipython-input-1-319f56868c1c>\u001b[0m in \u001b[0;36m<module>\u001b[0;34m()\u001b[0m\n\u001b[1;32m      1\u001b[0m \u001b[0;32mimport\u001b[0m \u001b[0mos\u001b[0m\u001b[0;34m\u001b[0m\u001b[0m\n\u001b[1;32m      2\u001b[0m \u001b[0;32mimport\u001b[0m \u001b[0mglob\u001b[0m\u001b[0;34m\u001b[0m\u001b[0m\n\u001b[0;32m----> 3\u001b[0;31m \u001b[0;32mimport\u001b[0m \u001b[0mcv2\u001b[0m \u001b[0;32mas\u001b[0m \u001b[0mcv\u001b[0m\u001b[0;34m\u001b[0m\u001b[0m\n\u001b[0m\u001b[1;32m      4\u001b[0m \u001b[0;32mimport\u001b[0m \u001b[0mnumpy\u001b[0m \u001b[0;32mas\u001b[0m \u001b[0mnp\u001b[0m\u001b[0;34m\u001b[0m\u001b[0m\n\u001b[1;32m      5\u001b[0m \u001b[0;32mimport\u001b[0m \u001b[0mmatplotlib\u001b[0m\u001b[0;34m.\u001b[0m\u001b[0mpyplot\u001b[0m \u001b[0;32mas\u001b[0m \u001b[0mplt\u001b[0m\u001b[0;34m\u001b[0m\u001b[0m\n",
      "\u001b[0;31mImportError\u001b[0m: /opt/ros/kinetic/lib/python2.7/dist-packages/cv2.so: undefined symbol: PyCObject_Type"
     ]
    }
   ],
   "source": [
    "import os\n",
    "import glob\n",
    "import cv2 as cv\n",
    "import numpy as np\n",
    "import matplotlib.pyplot as plt\n",
    "%matplotlib inline"
   ]
  },
  {
   "cell_type": "markdown",
   "metadata": {},
   "source": [
    "### Loading the data stored in Data/Videos/Evaluation"
   ]
  },
  {
   "cell_type": "code",
   "execution_count": null,
   "metadata": {},
   "outputs": [],
   "source": [
    "#To get all the video files in the given evaluation directory\n",
    "file_list = []\n",
    "pwd = os.getcwd()\n",
    "video_dir = 'Data/Videos/Evaluation'\n",
    "video_path = os.path.join(pwd,video_dir)\n",
    "file_list = [os.path.join(video_path,file) for file in os.listdir(os.path.join(pwd, video_path)) \\\n",
    "             if file.endswith(\".avi\")]\n",
    "len(file_list)\n",
    "# to get a particular frame use cap.set(cv.CAP_PROP_POS_FRAMES, index), where index is the frame number you want\n",
    "# have to use cap.read() to get the image after setting the frame number"
   ]
  },
  {
   "cell_type": "markdown",
   "metadata": {},
   "source": [
    "### Function to calculate abs_diff and return the best image for further processing"
   ]
  },
  {
   "cell_type": "code",
   "execution_count": null,
   "metadata": {},
   "outputs": [],
   "source": [
    "def get_final_image(cap, image_list):\n",
    "    \n",
    "#     returns the final image that will be used for detecting the dice corners and pips\n",
    "    \n",
    "#   total number of images that have been sampled from the video at 1 frame per second\n",
    "    num_images = len(image_list)\n",
    "    \n",
    "    prev_diff = np.float('inf')\n",
    "\n",
    "    if num_images > 1:\n",
    "    \n",
    "        for i in reversed(range(num_images-1)):\n",
    "#             print(good_frames[i])\n",
    "            img = cap.set(cv.CAP_PROP_POS_FRAMES, good_frames[i])\n",
    "            _,img = cap.read()\n",
    "            img = cv.cvtColor(img, cv.COLOR_BGR2GRAY)\n",
    "        #     print('Image 1',good_frames[i])\n",
    "        #     plt.imshow(img)\n",
    "        #     plt.show()\n",
    "\n",
    "            img2 = cap.set(cv.CAP_PROP_POS_FRAMES, good_frames[i-1])\n",
    "            _,img2 = cap.read()\n",
    "            img2 = cv.cvtColor(img2, cv.COLOR_BGR2GRAY)\n",
    "        #     print('Image 2', good_frames[i-1])\n",
    "        #     plt.imshow(img2)\n",
    "        #     plt.show()\n",
    "\n",
    "            err = np.sum((img.astype(\"float\") - img2.astype(\"float\")) ** 2)\n",
    "            err /= float(img.shape[0] * img.shape[1])\n",
    "#             print('difference = ', err)\n",
    "\n",
    "            if err < prev_diff:\n",
    "                prev_diff = err\n",
    "                img_final = img2\n",
    "                image_index = good_frames[i-1]\n",
    "\n",
    "    else:\n",
    "        img_final = cap.set(cv.CAP_PROP_POS_FRAMES, image_list[0])\n",
    "        _,img_final = cap.read()\n",
    "        img_final = cv.cvtColor(img_final, cv.COLOR_BGR2GRAY)\n",
    "        image_index = good_frames[0]\n",
    "            \n",
    "    return(img_final, image_index)\n",
    "    "
   ]
  },
  {
   "cell_type": "markdown",
   "metadata": {},
   "source": [
    "### Extract frames at 1 per second from all videos"
   ]
  },
  {
   "cell_type": "code",
   "execution_count": null,
   "metadata": {},
   "outputs": [],
   "source": [
    "sel_images = []\n",
    "image_indices = []\n",
    "\n",
    "for vid in range(len(file_list)):\n",
    "    \n",
    "    print('vid num: {}'.format(vid + 1))\n",
    "    \n",
    "    cap = cv.VideoCapture(file_list[vid])\n",
    "    fps = cap.get(cv.CAP_PROP_FPS)\n",
    "    num_frames = int(cap.get(cv.CAP_PROP_FRAME_COUNT))\n",
    "    good_frames = []\n",
    "\n",
    "#     print('frame rate: {}'.format(fps))\n",
    "\n",
    "    while(cap.isOpened):\n",
    "        # Capture frame-by-frame\n",
    "        ret, frame = cap.read()\n",
    "    \n",
    "        if (ret):\n",
    "            # Our operations on the frame come here\n",
    "            frame_index = cap.get(cv.CAP_PROP_POS_FRAMES)\n",
    "            \n",
    "            if (frame_index % int(fps) == 0):\n",
    "#                 print(\"frame_id:{}\".format(frame_index))\n",
    "                good_frames.append(frame_index)\n",
    "                    \n",
    "            if cv.waitKey(int(fps)) & 0xFF == ord('q'):\n",
    "                break\n",
    "            \n",
    "        else:\n",
    "#             print(good_frames)\n",
    "#             print('len: {}'.format(len(good_frames)))\n",
    "           \n",
    "            processed_img, index = get_final_image(cap, good_frames)\n",
    "#             plt.imshow(processed_img)\n",
    "#             plt.show()\n",
    "            image_indices.append(index)\n",
    "            sel_images.append(processed_img)\n",
    "            break\n",
    "            \n",
    "        \n",
    "cap.release()\n",
    "cv.destroyAllWindows()"
   ]
  },
  {
   "cell_type": "code",
   "execution_count": null,
   "metadata": {},
   "outputs": [],
   "source": [
    "image_dir = 'Data/Images'\n",
    "image_path = os.path.join(pwd,image_dir)\n",
    "\n",
    "image_list = [os.path.join(image_path,file) for file in os.listdir(os.path.join(pwd, image_path)) \\\n",
    "             if file.endswith(\".jpg\")]"
   ]
  },
  {
   "cell_type": "code",
   "execution_count": 2,
   "metadata": {},
   "outputs": [
    {
     "ename": "NameError",
     "evalue": "name 'sel_images' is not defined",
     "output_type": "error",
     "traceback": [
      "\u001b[0;31m---------------------------------------------------------------------------\u001b[0m",
      "\u001b[0;31mNameError\u001b[0m                                 Traceback (most recent call last)",
      "\u001b[0;32m<ipython-input-2-daa3bbb8df92>\u001b[0m in \u001b[0;36m<module>\u001b[0;34m()\u001b[0m\n\u001b[1;32m      1\u001b[0m \u001b[0;34m\u001b[0m\u001b[0m\n\u001b[0;32m----> 2\u001b[0;31m \u001b[0;32mfor\u001b[0m \u001b[0mi\u001b[0m \u001b[0;32min\u001b[0m \u001b[0mrange\u001b[0m\u001b[0;34m(\u001b[0m\u001b[0mlen\u001b[0m\u001b[0;34m(\u001b[0m\u001b[0msel_images\u001b[0m\u001b[0;34m)\u001b[0m\u001b[0;34m)\u001b[0m\u001b[0;34m:\u001b[0m\u001b[0;34m\u001b[0m\u001b[0m\n\u001b[0m\u001b[1;32m      3\u001b[0m     \u001b[0mprint\u001b[0m\u001b[0;34m(\u001b[0m\u001b[0mi\u001b[0m\u001b[0;34m+\u001b[0m\u001b[0;36m1\u001b[0m\u001b[0;34m)\u001b[0m\u001b[0;34m\u001b[0m\u001b[0m\n\u001b[1;32m      4\u001b[0m \u001b[0;31m#     plt.imshow(sel_images[i])\u001b[0m\u001b[0;34m\u001b[0m\u001b[0;34m\u001b[0m\u001b[0m\n\u001b[1;32m      5\u001b[0m \u001b[0;31m#     plt.show()\u001b[0m\u001b[0;34m\u001b[0m\u001b[0;34m\u001b[0m\u001b[0m\n",
      "\u001b[0;31mNameError\u001b[0m: name 'sel_images' is not defined"
     ]
    }
   ],
   "source": [
    "\n",
    "for i in range(len(sel_images)):\n",
    "    print(i+1)\n",
    "#     plt.imshow(sel_images[i])\n",
    "#     plt.show()\n",
    "    cv.imwrite(os.path.join(image_path , 'video_{}.jpg'.format(i)), sel_images[i])"
   ]
  },
  {
   "cell_type": "code",
   "execution_count": 3,
   "metadata": {},
   "outputs": [
    {
     "ename": "NameError",
     "evalue": "name 'image_list' is not defined",
     "output_type": "error",
     "traceback": [
      "\u001b[0;31m---------------------------------------------------------------------------\u001b[0m",
      "\u001b[0;31mNameError\u001b[0m                                 Traceback (most recent call last)",
      "\u001b[0;32m<ipython-input-3-4de767e35dd9>\u001b[0m in \u001b[0;36m<module>\u001b[0;34m()\u001b[0m\n\u001b[0;32m----> 1\u001b[0;31m \u001b[0;32mfor\u001b[0m \u001b[0mimg_id\u001b[0m \u001b[0;32min\u001b[0m \u001b[0mimage_list\u001b[0m\u001b[0;34m:\u001b[0m\u001b[0;34m\u001b[0m\u001b[0m\n\u001b[0m\u001b[1;32m      2\u001b[0m     \u001b[0mprint\u001b[0m\u001b[0;34m(\u001b[0m\u001b[0mimg_id\u001b[0m\u001b[0;34m)\u001b[0m\u001b[0;34m\u001b[0m\u001b[0m\n\u001b[1;32m      3\u001b[0m     \u001b[0mgray\u001b[0m \u001b[0;34m=\u001b[0m \u001b[0mcv\u001b[0m\u001b[0;34m.\u001b[0m\u001b[0mimread\u001b[0m\u001b[0;34m(\u001b[0m\u001b[0mimg_id\u001b[0m\u001b[0;34m,\u001b[0m \u001b[0;36m0\u001b[0m\u001b[0;34m)\u001b[0m\u001b[0;34m\u001b[0m\u001b[0m\n\u001b[1;32m      4\u001b[0m \u001b[0;31m#     base_img = cv.cvtColor(gray,cv.COLOR_GRAY2RGB)\u001b[0m\u001b[0;34m\u001b[0m\u001b[0;34m\u001b[0m\u001b[0m\n\u001b[1;32m      5\u001b[0m     \u001b[0mgray\u001b[0m \u001b[0;34m=\u001b[0m \u001b[0mcv\u001b[0m\u001b[0;34m.\u001b[0m\u001b[0mmedianBlur\u001b[0m\u001b[0;34m(\u001b[0m\u001b[0mgray\u001b[0m\u001b[0;34m,\u001b[0m\u001b[0;36m7\u001b[0m\u001b[0;34m)\u001b[0m\u001b[0;34m\u001b[0m\u001b[0m\n",
      "\u001b[0;31mNameError\u001b[0m: name 'image_list' is not defined"
     ]
    }
   ],
   "source": [
    "for img_id in image_list:\n",
    "    print(img_id)\n",
    "    gray = cv.imread(img_id, 0)\n",
    "#     base_img = cv.cvtColor(gray,cv.COLOR_GRAY2RGB)\n",
    "    gray = cv.medianBlur(gray,7)\n",
    "#     should try it once with the adaptive thresholding\n",
    "#     gray = cv.adaptiveThreshold(gray,255,cv.ADAPTIVE_THRESH_GAUSSIAN_C,\\\n",
    "#             cv.THRESH_BINARY,11,2)\n",
    "    edges = cv.Canny(gray, 100, 200);\n",
    "    im2, contours, hierarchy = cv.findContours(edges,\\\n",
    "                                                cv.RETR_TREE,cv.CHAIN_APPROX_SIMPLE)\n",
    "    \n",
    "    for cnt in contours:\n",
    "        area = cv.contourArea(cnt)\n",
    "        if area < 50:\n",
    "#             im2 = cv.drawContours(gray, contours, -1, (255,0,0), 3)\n",
    "            x,y,w,h = cv.boundingRect(cnt)\n",
    "            im2 = cv.rectangle(gray,(x,y),(x+w,y+h),(0,255,0),2)\n",
    "            \n",
    "\n",
    "    cv.imshow('original', im2)\n",
    "    k = cv.waitKey(0) & 0xFF\n",
    "    if k == 27:         # wait for ESC key to exit\n",
    "        cv.destroyAllWindows()  \n",
    "#     cv2.imshow('canny', edges)\n",
    "#     k = cv2.waitKey(0) & 0xFF\n",
    "#     if k == 27:         # wait for ESC key to exit\n",
    "#         cv.destroyAllWindows()  \n"
   ]
  },
  {
   "cell_type": "code",
   "execution_count": 4,
   "metadata": {},
   "outputs": [
    {
     "ename": "NameError",
     "evalue": "name 'image_indices' is not defined",
     "output_type": "error",
     "traceback": [
      "\u001b[0;31m---------------------------------------------------------------------------\u001b[0m",
      "\u001b[0;31mNameError\u001b[0m                                 Traceback (most recent call last)",
      "\u001b[0;32m<ipython-input-4-1738a2346110>\u001b[0m in \u001b[0;36m<module>\u001b[0;34m()\u001b[0m\n\u001b[0;32m----> 1\u001b[0;31m \u001b[0mimage_indices\u001b[0m\u001b[0;34m\u001b[0m\u001b[0m\n\u001b[0m",
      "\u001b[0;31mNameError\u001b[0m: name 'image_indices' is not defined"
     ]
    }
   ],
   "source": [
    "image_indices"
   ]
  },
  {
   "cell_type": "code",
   "execution_count": 5,
   "metadata": {},
   "outputs": [
    {
     "ename": "NameError",
     "evalue": "name 'cv' is not defined",
     "output_type": "error",
     "traceback": [
      "\u001b[0;31m---------------------------------------------------------------------------\u001b[0m",
      "\u001b[0;31mNameError\u001b[0m                                 Traceback (most recent call last)",
      "\u001b[0;32m<ipython-input-5-ac33c0c03115>\u001b[0m in \u001b[0;36m<module>\u001b[0;34m()\u001b[0m\n\u001b[1;32m      1\u001b[0m \u001b[0;31m#cross checking if the image indexes match the obtained frames\u001b[0m\u001b[0;34m\u001b[0m\u001b[0;34m\u001b[0m\u001b[0m\n\u001b[0;32m----> 2\u001b[0;31m \u001b[0mcap\u001b[0m \u001b[0;34m=\u001b[0m \u001b[0mcv\u001b[0m\u001b[0;34m.\u001b[0m\u001b[0mVideoCapture\u001b[0m\u001b[0;34m(\u001b[0m\u001b[0mfile_list\u001b[0m\u001b[0;34m[\u001b[0m\u001b[0;36m3\u001b[0m\u001b[0;34m]\u001b[0m\u001b[0;34m)\u001b[0m\u001b[0;34m\u001b[0m\u001b[0m\n\u001b[0m\u001b[1;32m      3\u001b[0m \u001b[0mimage_test\u001b[0m \u001b[0;34m=\u001b[0m \u001b[0mcap\u001b[0m\u001b[0;34m.\u001b[0m\u001b[0mset\u001b[0m\u001b[0;34m(\u001b[0m\u001b[0mcv\u001b[0m\u001b[0;34m.\u001b[0m\u001b[0mCAP_PROP_POS_FRAMES\u001b[0m\u001b[0;34m,\u001b[0m \u001b[0mimage_indices\u001b[0m\u001b[0;34m[\u001b[0m\u001b[0;36m3\u001b[0m\u001b[0;34m]\u001b[0m\u001b[0;34m)\u001b[0m\u001b[0;34m\u001b[0m\u001b[0m\n\u001b[1;32m      4\u001b[0m \u001b[0m_\u001b[0m\u001b[0;34m,\u001b[0m\u001b[0mimage_test\u001b[0m \u001b[0;34m=\u001b[0m \u001b[0mcap\u001b[0m\u001b[0;34m.\u001b[0m\u001b[0mread\u001b[0m\u001b[0;34m(\u001b[0m\u001b[0;34m)\u001b[0m\u001b[0;34m\u001b[0m\u001b[0m\n\u001b[1;32m      5\u001b[0m \u001b[0mimage_test\u001b[0m \u001b[0;34m=\u001b[0m \u001b[0mcv\u001b[0m\u001b[0;34m.\u001b[0m\u001b[0mcvtColor\u001b[0m\u001b[0;34m(\u001b[0m\u001b[0mimage_test\u001b[0m\u001b[0;34m,\u001b[0m \u001b[0mcv\u001b[0m\u001b[0;34m.\u001b[0m\u001b[0mCOLOR_BGR2GRAY\u001b[0m\u001b[0;34m)\u001b[0m\u001b[0;34m\u001b[0m\u001b[0m\n",
      "\u001b[0;31mNameError\u001b[0m: name 'cv' is not defined"
     ]
    }
   ],
   "source": [
    "#cross checking if the image indexes match the obtained frames\n",
    "cap = cv.VideoCapture(file_list[3])\n",
    "image_test = cap.set(cv.CAP_PROP_POS_FRAMES, image_indices[3])\n",
    "_,image_test = cap.read()\n",
    "image_test = cv.cvtColor(image_test, cv.COLOR_BGR2GRAY)\n",
    "plt.imshow(image_test)\n",
    "plt.show()\n"
   ]
  },
  {
   "cell_type": "code",
   "execution_count": 6,
   "metadata": {},
   "outputs": [
    {
     "ename": "NameError",
     "evalue": "name 'cv' is not defined",
     "output_type": "error",
     "traceback": [
      "\u001b[0;31m---------------------------------------------------------------------------\u001b[0m",
      "\u001b[0;31mNameError\u001b[0m                                 Traceback (most recent call last)",
      "\u001b[0;32m<ipython-input-6-7d195646669e>\u001b[0m in \u001b[0;36m<module>\u001b[0;34m()\u001b[0m\n\u001b[0;32m----> 1\u001b[0;31m \u001b[0mgray\u001b[0m \u001b[0;34m=\u001b[0m \u001b[0mcv\u001b[0m\u001b[0;34m.\u001b[0m\u001b[0mimread\u001b[0m\u001b[0;34m(\u001b[0m\u001b[0mimage_list\u001b[0m\u001b[0;34m[\u001b[0m\u001b[0;36m3\u001b[0m\u001b[0;34m]\u001b[0m\u001b[0;34m)\u001b[0m\u001b[0;34m\u001b[0m\u001b[0m\n\u001b[0m\u001b[1;32m      2\u001b[0m \u001b[0;31m#     base_img = cv.cvtColor(gray,cv.COLOR_GRAY2RGB)\u001b[0m\u001b[0;34m\u001b[0m\u001b[0;34m\u001b[0m\u001b[0m\n\u001b[1;32m      3\u001b[0m \u001b[0mgray\u001b[0m \u001b[0;34m=\u001b[0m \u001b[0mcv\u001b[0m\u001b[0;34m.\u001b[0m\u001b[0mmedianBlur\u001b[0m\u001b[0;34m(\u001b[0m\u001b[0mgray\u001b[0m\u001b[0;34m,\u001b[0m\u001b[0;36m9\u001b[0m\u001b[0;34m)\u001b[0m\u001b[0;34m\u001b[0m\u001b[0m\n\u001b[1;32m      4\u001b[0m \u001b[0;31m#     should try it once with the adaptive thresholding\u001b[0m\u001b[0;34m\u001b[0m\u001b[0;34m\u001b[0m\u001b[0m\n\u001b[1;32m      5\u001b[0m \u001b[0;31m#     gray = cv.adaptiveThreshold(gray,255,cv.ADAPTIVE_THRESH_GAUSSIAN_C,\\\u001b[0m\u001b[0;34m\u001b[0m\u001b[0;34m\u001b[0m\u001b[0m\n",
      "\u001b[0;31mNameError\u001b[0m: name 'cv' is not defined"
     ]
    }
   ],
   "source": [
    "gray = cv.imread(image_list[3])\n",
    "#     base_img = cv.cvtColor(gray,cv.COLOR_GRAY2RGB)\n",
    "gray = cv.medianBlur(gray,9)\n",
    "#     should try it once with the adaptive thresholding\n",
    "#     gray = cv.adaptiveThreshold(gray,255,cv.ADAPTIVE_THRESH_GAUSSIAN_C,\\\n",
    "#             cv.THRESH_BINARY,11,2)\n",
    "edges = cv.Canny(gray, 70, 90);\n",
    "# edges = cv.dilate(edges, None, iterations=1)\n",
    "# edges = cv.erode(edges, None, iterations=1)\n",
    "im2, contours, hierarchy = cv.findContours(edges,\\\n",
    "                                            cv.RETR_TREE,cv.CHAIN_APPROX_SIMPLE)\n",
    "\n",
    "for cnt in contours:\n",
    "    area = cv.contourArea(cnt)\n",
    "    print(area)\n",
    "    if area > 100 and area < 500:\n",
    "        x,y,w,h = cv.boundingRect(cnt)\n",
    "#         print(w,h, 'w,h')\n",
    "        im2 = cv.rectangle(gray,(x,y),(x+w,y+h),(0,0,255),2)\n",
    "\n",
    "\n",
    "cv.imshow('original', im2)\n",
    "k = cv.waitKey(0) & 0xFF\n",
    "if k == 27:         # wait for ESC key to exit\n",
    "    cv.destroyAllWindows()  "
   ]
  },
  {
   "cell_type": "code",
   "execution_count": null,
   "metadata": {},
   "outputs": [],
   "source": []
  },
  {
   "cell_type": "code",
   "execution_count": null,
   "metadata": {},
   "outputs": [],
   "source": []
  }
 ],
 "metadata": {
  "kernelspec": {
   "display_name": "Python 3",
   "language": "python",
   "name": "python3"
  },
  "language_info": {
   "codemirror_mode": {
    "name": "ipython",
    "version": 3
   },
   "file_extension": ".py",
   "mimetype": "text/x-python",
   "name": "python",
   "nbconvert_exporter": "python",
   "pygments_lexer": "ipython3",
   "version": "3.6.5"
  }
 },
 "nbformat": 4,
 "nbformat_minor": 2
}
